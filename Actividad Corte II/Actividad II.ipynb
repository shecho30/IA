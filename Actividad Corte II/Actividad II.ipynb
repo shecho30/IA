{
 "cells": [
  {
   "cell_type": "markdown",
   "id": "9b892b9e",
   "metadata": {},
   "source": [
    "# Cargue de Librerias y información\n",
    "En este proyecto vamos a usar las siguientes librerias.\n",
    "###### pandas -> para la manipulacion de los datos.\n",
    "###### requests -> para hacer peticiones a el servidor de github.\n",
    "###### json -> para cargar datos en formato Json.\n",
    "###### matplotlib -> para hacer graficos\n",
    "###### heapq ->  Permite generar, algoritmos para organizar la información.\n",
    "###### networkx -> Herramienta para el uso y estudio de Grafos\n"
   ]
  },
  {
   "cell_type": "code",
   "execution_count": 4,
   "id": "4ee8a255",
   "metadata": {},
   "outputs": [],
   "source": [
    "#Cargue de las librerias\n",
    "import pandas as pd\n",
    "import heapq\n",
    "import requests as rq\n",
    "import json\n",
    "import networkx as nx\n",
    "import matplotlib.pyplot as plt"
   ]
  },
  {
   "cell_type": "code",
   "execution_count": 23,
   "id": "2941a5a6",
   "metadata": {},
   "outputs": [],
   "source": [
    "url = 'https://raw.githubusercontent.com/shecho30/IA/main/Actividad%20Corte%20II/DataSet_Barrios_Cali.json'\n",
    "url2 = 'https://raw.githubusercontent.com/shecho30/IA/main/Actividad%20Corte%20II/datos_ia.csv'"
   ]
  },
  {
   "cell_type": "code",
   "execution_count": 28,
   "id": "9a87fb2e",
   "metadata": {},
   "outputs": [],
   "source": [
    "df = pd.read_csv(url2, sep=';')"
   ]
  },
  {
   "cell_type": "code",
   "execution_count": 29,
   "id": "e1577249",
   "metadata": {},
   "outputs": [
    {
     "data": {
      "text/html": [
       "<div>\n",
       "<style scoped>\n",
       "    .dataframe tbody tr th:only-of-type {\n",
       "        vertical-align: middle;\n",
       "    }\n",
       "\n",
       "    .dataframe tbody tr th {\n",
       "        vertical-align: top;\n",
       "    }\n",
       "\n",
       "    .dataframe thead th {\n",
       "        text-align: right;\n",
       "    }\n",
       "</style>\n",
       "<table border=\"1\" class=\"dataframe\">\n",
       "  <thead>\n",
       "    <tr style=\"text-align: right;\">\n",
       "      <th></th>\n",
       "      <th>Id</th>\n",
       "      <th>barrio</th>\n",
       "      <th>barrio cercano</th>\n",
       "      <th>cuadra</th>\n",
       "      <th>barrio cercano II</th>\n",
       "      <th>cuadra II</th>\n",
       "    </tr>\n",
       "  </thead>\n",
       "  <tbody>\n",
       "    <tr>\n",
       "      <th>0</th>\n",
       "      <td>1</td>\n",
       "      <td>panamericano</td>\n",
       "      <td>san judas</td>\n",
       "      <td>6</td>\n",
       "      <td>guabal</td>\n",
       "      <td>4</td>\n",
       "    </tr>\n",
       "    <tr>\n",
       "      <th>1</th>\n",
       "      <td>2</td>\n",
       "      <td>guabal</td>\n",
       "      <td>dorado</td>\n",
       "      <td>5</td>\n",
       "      <td>panamericano</td>\n",
       "      <td>7</td>\n",
       "    </tr>\n",
       "    <tr>\n",
       "      <th>2</th>\n",
       "      <td>3</td>\n",
       "      <td>san judas</td>\n",
       "      <td>primero de mayo</td>\n",
       "      <td>5</td>\n",
       "      <td>panamericano</td>\n",
       "      <td>5</td>\n",
       "    </tr>\n",
       "    <tr>\n",
       "      <th>3</th>\n",
       "      <td>4</td>\n",
       "      <td>primero de mayo</td>\n",
       "      <td>san judas</td>\n",
       "      <td>3</td>\n",
       "      <td>el diamante</td>\n",
       "      <td>5</td>\n",
       "    </tr>\n",
       "    <tr>\n",
       "      <th>4</th>\n",
       "      <td>5</td>\n",
       "      <td>dorado</td>\n",
       "      <td>guabal</td>\n",
       "      <td>6</td>\n",
       "      <td>santo domingo</td>\n",
       "      <td>7</td>\n",
       "    </tr>\n",
       "    <tr>\n",
       "      <th>5</th>\n",
       "      <td>6</td>\n",
       "      <td>el diamante</td>\n",
       "      <td>republica</td>\n",
       "      <td>9</td>\n",
       "      <td>primero de mayo</td>\n",
       "      <td>8</td>\n",
       "    </tr>\n",
       "    <tr>\n",
       "      <th>6</th>\n",
       "      <td>7</td>\n",
       "      <td>santo domingo</td>\n",
       "      <td>dorado</td>\n",
       "      <td>4</td>\n",
       "      <td>Los guaduales</td>\n",
       "      <td>10</td>\n",
       "    </tr>\n",
       "    <tr>\n",
       "      <th>7</th>\n",
       "      <td>8</td>\n",
       "      <td>republica</td>\n",
       "      <td>La hacienda</td>\n",
       "      <td>5</td>\n",
       "      <td>el diamante</td>\n",
       "      <td>6</td>\n",
       "    </tr>\n",
       "    <tr>\n",
       "      <th>8</th>\n",
       "      <td>9</td>\n",
       "      <td>La hacienda</td>\n",
       "      <td>los alamos</td>\n",
       "      <td>7</td>\n",
       "      <td>republica</td>\n",
       "      <td>6</td>\n",
       "    </tr>\n",
       "    <tr>\n",
       "      <th>9</th>\n",
       "      <td>10</td>\n",
       "      <td>Los guaduales</td>\n",
       "      <td>santo domingo</td>\n",
       "      <td>6</td>\n",
       "      <td>la base</td>\n",
       "      <td>8</td>\n",
       "    </tr>\n",
       "    <tr>\n",
       "      <th>10</th>\n",
       "      <td>11</td>\n",
       "      <td>vallado</td>\n",
       "      <td>san judas</td>\n",
       "      <td>3</td>\n",
       "      <td>guabal</td>\n",
       "      <td>4</td>\n",
       "    </tr>\n",
       "    <tr>\n",
       "      <th>11</th>\n",
       "      <td>12</td>\n",
       "      <td>ciudad cordoba</td>\n",
       "      <td>primero de mayo</td>\n",
       "      <td>7</td>\n",
       "      <td>vallado</td>\n",
       "      <td>4</td>\n",
       "    </tr>\n",
       "    <tr>\n",
       "      <th>12</th>\n",
       "      <td>13</td>\n",
       "      <td>La flora</td>\n",
       "      <td>dorado</td>\n",
       "      <td>6</td>\n",
       "      <td>ciudad cordoba</td>\n",
       "      <td>4</td>\n",
       "    </tr>\n",
       "    <tr>\n",
       "      <th>13</th>\n",
       "      <td>14</td>\n",
       "      <td>colon</td>\n",
       "      <td>panamericano</td>\n",
       "      <td>2</td>\n",
       "      <td>vallado</td>\n",
       "      <td>4</td>\n",
       "    </tr>\n",
       "  </tbody>\n",
       "</table>\n",
       "</div>"
      ],
      "text/plain": [
       "    Id           barrio   barrio cercano  cuadra barrio cercano II  cuadra II\n",
       "0    1     panamericano        san judas       6            guabal          4\n",
       "1    2           guabal           dorado       5      panamericano          7\n",
       "2    3        san judas  primero de mayo       5      panamericano          5\n",
       "3    4  primero de mayo        san judas       3       el diamante          5\n",
       "4    5           dorado           guabal       6     santo domingo          7\n",
       "5    6      el diamante        republica       9   primero de mayo          8\n",
       "6    7    santo domingo           dorado       4     Los guaduales         10\n",
       "7    8        republica      La hacienda       5       el diamante          6\n",
       "8    9      La hacienda       los alamos       7         republica          6\n",
       "9   10    Los guaduales    santo domingo       6           la base          8\n",
       "10  11          vallado        san judas       3            guabal          4\n",
       "11  12   ciudad cordoba  primero de mayo       7           vallado          4\n",
       "12  13         La flora           dorado       6    ciudad cordoba          4\n",
       "13  14            colon     panamericano       2           vallado          4"
      ]
     },
     "execution_count": 29,
     "metadata": {},
     "output_type": "execute_result"
    }
   ],
   "source": [
    "df"
   ]
  },
  {
   "cell_type": "code",
   "execution_count": 13,
   "id": "676a6dc0",
   "metadata": {},
   "outputs": [],
   "source": [
    "response = rq.get(url).text"
   ]
  },
  {
   "cell_type": "code",
   "execution_count": 30,
   "id": "4606ef39",
   "metadata": {},
   "outputs": [],
   "source": [
    "datos = json.loads(response)"
   ]
  },
  {
   "cell_type": "code",
   "execution_count": 31,
   "id": "4482e95f",
   "metadata": {},
   "outputs": [
    {
     "data": {
      "text/plain": [
       "{'panamericano': {'san judas': 6, 'guabal': 4},\n",
       " 'guabal': {'dorado': 5, 'panamericano': 7},\n",
       " 'san judas': {'primero de mayo': 5, 'panamericano': 5},\n",
       " 'primero de mayo': {'san judas': 3, 'el diamante': 5},\n",
       " 'dorado': {'guabal': 6, 'santo domingo': 7},\n",
       " 'el diamante': {'republica': 9, 'primero de mayo': 8},\n",
       " 'santo domingo': {'dorado': 4, 'Los guaduales': 10},\n",
       " 'republica': {'La hacienda': 5, 'el diamante': 6},\n",
       " 'La hacienda': {'los alamos': 7, 'republica': 6},\n",
       " 'Los guaduales': {'santo domingo': 6, 'la base': 8},\n",
       " 'vallado': {'san judas': 3, 'guabal': 4},\n",
       " 'ciudad cordoba': {'primero de mayo': 7, 'vallado': 4},\n",
       " 'La flora': {'dorado': 6, 'ciudad cordoba': 4},\n",
       " 'colon': {'panamericano': 2, 'vallado': 4}}"
      ]
     },
     "execution_count": 31,
     "metadata": {},
     "output_type": "execute_result"
    }
   ],
   "source": [
    "datos"
   ]
  },
  {
   "cell_type": "markdown",
   "id": "53d19b52",
   "metadata": {},
   "source": [
    "# Exploracion de datos"
   ]
  },
  {
   "cell_type": "code",
   "execution_count": 33,
   "id": "f9de853c",
   "metadata": {},
   "outputs": [
    {
     "data": {
      "text/html": [
       "<div>\n",
       "<style scoped>\n",
       "    .dataframe tbody tr th:only-of-type {\n",
       "        vertical-align: middle;\n",
       "    }\n",
       "\n",
       "    .dataframe tbody tr th {\n",
       "        vertical-align: top;\n",
       "    }\n",
       "\n",
       "    .dataframe thead th {\n",
       "        text-align: right;\n",
       "    }\n",
       "</style>\n",
       "<table border=\"1\" class=\"dataframe\">\n",
       "  <thead>\n",
       "    <tr style=\"text-align: right;\">\n",
       "      <th></th>\n",
       "      <th>Id</th>\n",
       "      <th>barrio</th>\n",
       "      <th>barrio cercano</th>\n",
       "      <th>cuadra</th>\n",
       "      <th>barrio cercano II</th>\n",
       "      <th>cuadra II</th>\n",
       "    </tr>\n",
       "  </thead>\n",
       "  <tbody>\n",
       "    <tr>\n",
       "      <th>0</th>\n",
       "      <td>1</td>\n",
       "      <td>panamericano</td>\n",
       "      <td>san judas</td>\n",
       "      <td>6</td>\n",
       "      <td>guabal</td>\n",
       "      <td>4</td>\n",
       "    </tr>\n",
       "    <tr>\n",
       "      <th>1</th>\n",
       "      <td>2</td>\n",
       "      <td>guabal</td>\n",
       "      <td>dorado</td>\n",
       "      <td>5</td>\n",
       "      <td>panamericano</td>\n",
       "      <td>7</td>\n",
       "    </tr>\n",
       "    <tr>\n",
       "      <th>2</th>\n",
       "      <td>3</td>\n",
       "      <td>san judas</td>\n",
       "      <td>primero de mayo</td>\n",
       "      <td>5</td>\n",
       "      <td>panamericano</td>\n",
       "      <td>5</td>\n",
       "    </tr>\n",
       "    <tr>\n",
       "      <th>3</th>\n",
       "      <td>4</td>\n",
       "      <td>primero de mayo</td>\n",
       "      <td>san judas</td>\n",
       "      <td>3</td>\n",
       "      <td>el diamante</td>\n",
       "      <td>5</td>\n",
       "    </tr>\n",
       "    <tr>\n",
       "      <th>4</th>\n",
       "      <td>5</td>\n",
       "      <td>dorado</td>\n",
       "      <td>guabal</td>\n",
       "      <td>6</td>\n",
       "      <td>santo domingo</td>\n",
       "      <td>7</td>\n",
       "    </tr>\n",
       "  </tbody>\n",
       "</table>\n",
       "</div>"
      ],
      "text/plain": [
       "   Id           barrio   barrio cercano  cuadra barrio cercano II  cuadra II\n",
       "0   1     panamericano        san judas       6            guabal          4\n",
       "1   2           guabal           dorado       5      panamericano          7\n",
       "2   3        san judas  primero de mayo       5      panamericano          5\n",
       "3   4  primero de mayo        san judas       3       el diamante          5\n",
       "4   5           dorado           guabal       6     santo domingo          7"
      ]
     },
     "execution_count": 33,
     "metadata": {},
     "output_type": "execute_result"
    }
   ],
   "source": [
    "df.head()"
   ]
  },
  {
   "cell_type": "code",
   "execution_count": 36,
   "id": "bb60a1a0",
   "metadata": {},
   "outputs": [
    {
     "data": {
      "text/html": [
       "<div>\n",
       "<style scoped>\n",
       "    .dataframe tbody tr th:only-of-type {\n",
       "        vertical-align: middle;\n",
       "    }\n",
       "\n",
       "    .dataframe tbody tr th {\n",
       "        vertical-align: top;\n",
       "    }\n",
       "\n",
       "    .dataframe thead th {\n",
       "        text-align: right;\n",
       "    }\n",
       "</style>\n",
       "<table border=\"1\" class=\"dataframe\">\n",
       "  <thead>\n",
       "    <tr style=\"text-align: right;\">\n",
       "      <th></th>\n",
       "      <th>Id</th>\n",
       "      <th>cuadra</th>\n",
       "      <th>cuadra II</th>\n",
       "    </tr>\n",
       "  </thead>\n",
       "  <tbody>\n",
       "    <tr>\n",
       "      <th>count</th>\n",
       "      <td>14.0000</td>\n",
       "      <td>14.000000</td>\n",
       "      <td>14.000000</td>\n",
       "    </tr>\n",
       "    <tr>\n",
       "      <th>mean</th>\n",
       "      <td>7.5000</td>\n",
       "      <td>5.285714</td>\n",
       "      <td>5.857143</td>\n",
       "    </tr>\n",
       "    <tr>\n",
       "      <th>std</th>\n",
       "      <td>4.1833</td>\n",
       "      <td>1.857565</td>\n",
       "      <td>1.915810</td>\n",
       "    </tr>\n",
       "    <tr>\n",
       "      <th>min</th>\n",
       "      <td>1.0000</td>\n",
       "      <td>2.000000</td>\n",
       "      <td>4.000000</td>\n",
       "    </tr>\n",
       "    <tr>\n",
       "      <th>25%</th>\n",
       "      <td>4.2500</td>\n",
       "      <td>4.250000</td>\n",
       "      <td>4.000000</td>\n",
       "    </tr>\n",
       "    <tr>\n",
       "      <th>50%</th>\n",
       "      <td>7.5000</td>\n",
       "      <td>5.500000</td>\n",
       "      <td>5.500000</td>\n",
       "    </tr>\n",
       "    <tr>\n",
       "      <th>75%</th>\n",
       "      <td>10.7500</td>\n",
       "      <td>6.000000</td>\n",
       "      <td>7.000000</td>\n",
       "    </tr>\n",
       "    <tr>\n",
       "      <th>max</th>\n",
       "      <td>14.0000</td>\n",
       "      <td>9.000000</td>\n",
       "      <td>10.000000</td>\n",
       "    </tr>\n",
       "  </tbody>\n",
       "</table>\n",
       "</div>"
      ],
      "text/plain": [
       "            Id     cuadra  cuadra II\n",
       "count  14.0000  14.000000  14.000000\n",
       "mean    7.5000   5.285714   5.857143\n",
       "std     4.1833   1.857565   1.915810\n",
       "min     1.0000   2.000000   4.000000\n",
       "25%     4.2500   4.250000   4.000000\n",
       "50%     7.5000   5.500000   5.500000\n",
       "75%    10.7500   6.000000   7.000000\n",
       "max    14.0000   9.000000  10.000000"
      ]
     },
     "execution_count": 36,
     "metadata": {},
     "output_type": "execute_result"
    }
   ],
   "source": [
    "df.describe()"
   ]
  },
  {
   "cell_type": "code",
   "execution_count": 56,
   "id": "b3e3a7bc",
   "metadata": {},
   "outputs": [
    {
     "data": {
      "text/plain": [
       "(14, 6)"
      ]
     },
     "execution_count": 56,
     "metadata": {},
     "output_type": "execute_result"
    }
   ],
   "source": [
    "df.shape"
   ]
  },
  {
   "cell_type": "code",
   "execution_count": 59,
   "id": "46321e25",
   "metadata": {},
   "outputs": [
    {
     "data": {
      "text/plain": [
       "Text(0.5, 1.0, 'Cantidad de cuadras')"
      ]
     },
     "execution_count": 59,
     "metadata": {},
     "output_type": "execute_result"
    },
    {
     "data": {
      "text/plain": [
       "<Figure size 1440x720 with 0 Axes>"
      ]
     },
     "metadata": {},
     "output_type": "display_data"
    },
    {
     "data": {
      "image/png": "[encoded data removed]",
      "text/plain": [
       "<Figure size 432x288 with 1 Axes>"
      ]
     },
     "metadata": {
      "needs_background": "light"
     },
     "output_type": "display_data"
    }
   ],
   "source": [
    "plt.figure(figsize=(20,10))\n",
    "df.plot(kind='bar', color='blue')\n",
    "plt.xlabel('barrio')\n",
    "plt.ylabel('Barrio x Cuadra')\n",
    "plt.title('Cantidad de cuadras')"
   ]
  },
  {
   "cell_type": "code",
   "execution_count": 10,
   "id": "320e27bd",
   "metadata": {},
   "outputs": [],
   "source": [
    "def ia_ruta(data, inicio, final):\n",
    "    queue, visited = [(0, inicio, [])], set()\n",
    "    heapq.heapify(queue) #ordenar los datos\n",
    "    \n",
    "    while queue:\n",
    "        (cost, node, path) = heapq.heappop(queue) #Extrae el dato mas pequeño\n",
    "        \n",
    "        if node not in visited:\n",
    "            visited.add(node)\n",
    "            path = path + [node]\n",
    "            \n",
    "            if node == final:\n",
    "                return cost, path\n",
    "            \n",
    "            for neighbor, c in data[node].items():\n",
    "                if neighbor not in visited:\n",
    "                    heapq.heappush(queue, (cost + c, neighbor, path)) #agrega la informacion al grafo\n",
    "    \n",
    "    return float(\"inf\"), []"
   ]
  },
  {
   "cell_type": "code",
   "execution_count": 73,
   "id": "9fdac084",
   "metadata": {},
   "outputs": [
    {
     "name": "stdout",
     "output_type": "stream",
     "text": [
      "La ruta más corta desde el barrio guabal hasta el barrio san judas es: \n",
      "['guabal', 'panamericano', 'san judas']\n",
      "Cantidad de cuadras recorridas:  13\n"
     ]
    }
   ],
   "source": [
    "barria_salida = 'guabal' \n",
    "barrio_llegada = 'san judas'\n",
    "\n",
    "\n",
    "cost, path = ia_ruta(datos, barria_salida, barrio_llegada)\n",
    "print(\"La ruta más corta desde el barrio %s hasta el barrio %s es: \" %(barria_salida,barrio_llegada))\n",
    "print(path)\n",
    "print(\"Cantidad de cuadras recorridas: \", cost)"
   ]
  },
  {
   "cell_type": "code",
   "execution_count": 64,
   "id": "62e70169",
   "metadata": {},
   "outputs": [
    {
     "data": {
      "image/png": "[encoded data removed]",
      "text/plain": [
       "<Figure size 432x288 with 1 Axes>"
      ]
     },
     "metadata": {},
     "output_type": "display_data"
    },
    {
     "data": {
      "image/png": "[encoded data removed]",
      "text/plain": [
       "<Figure size 1512x1512 with 1 Axes>"
      ]
     },
     "metadata": {},
     "output_type": "display_data"
    }
   ],
   "source": [
    "graph = datos\n",
    "\n",
    "# Creamos el grafo con NetworkX\n",
    "G = nx.Graph()\n",
    "for node in graph:\n",
    "    G.add_node(node)\n",
    "    for neighbor, cost in graph[node].items():\n",
    "        G.add_edge(node, neighbor, weight=cost)\n",
    "\n",
    "# Calculamos el camino más corto utilizando la funcion de Dijkstra\n",
    "cost, path = ia_ruta(graph, barria_salida, barrio_llegada)\n",
    "\n",
    "# El camino mas corto va a estar de otro color\n",
    "blue_edges = list(zip(path, path[1:]))\n",
    "edge_colors = ['g' if edge in blue_edges else 'k' for edge in G.edges()]\n",
    "\n",
    "# Dibujamos el grafo\n",
    "pos = nx.spring_layout(G)\n",
    "nx.draw_networkx_nodes(G, pos)\n",
    "nx.draw_networkx_labels(G, pos)\n",
    "nx.draw_networkx_edges(G, pos, edge_color=edge_colors)\n",
    "nx.draw_networkx_edge_labels(G, pos, edge_labels={(u, v): d['weight'] for u, v, d in G.edges(data=True)})\n",
    "plt.axis('off')\n",
    "plt.figure(figsize=(21, 21))\n",
    "nx.draw(G, with_labels=True)\n",
    "plt.show()\n",
    "\n"
   ]
  },
  {
   "cell_type": "code",
   "execution_count": 74,
   "id": "795710be",
   "metadata": {},
   "outputs": [
    {
     "name": "stdout",
     "output_type": "stream",
     "text": [
      "La ruta más corta desde el barrio guabal hasta el barrio san judas es: \n",
      "['guabal', 'panamericano', 'san judas']\n",
      "Cantidad de cuadras recorridas:  13\n"
     ]
    }
   ],
   "source": [
    "# Imprimimos el resultado\n",
    "print(\"La ruta más corta desde el barrio %s hasta el barrio %s es: \" %(barria_salida,barrio_llegada))\n",
    "print(path)\n",
    "print(\"Cantidad de cuadras recorridas: \", cost)"
   ]
  },
  {
   "cell_type": "code",
   "execution_count": 69,
   "id": "addae4d7",
   "metadata": {},
   "outputs": [
    {
     "data": {
      "text/html": [
       "<div>\n",
       "<style scoped>\n",
       "    .dataframe tbody tr th:only-of-type {\n",
       "        vertical-align: middle;\n",
       "    }\n",
       "\n",
       "    .dataframe tbody tr th {\n",
       "        vertical-align: top;\n",
       "    }\n",
       "\n",
       "    .dataframe thead th {\n",
       "        text-align: right;\n",
       "    }\n",
       "</style>\n",
       "<table border=\"1\" class=\"dataframe\">\n",
       "  <thead>\n",
       "    <tr style=\"text-align: right;\">\n",
       "      <th></th>\n",
       "      <th>Id</th>\n",
       "      <th>barrio</th>\n",
       "      <th>barrio cercano</th>\n",
       "      <th>cuadra</th>\n",
       "      <th>barrio cercano II</th>\n",
       "      <th>cuadra II</th>\n",
       "    </tr>\n",
       "  </thead>\n",
       "  <tbody>\n",
       "    <tr>\n",
       "      <th>0</th>\n",
       "      <td>1</td>\n",
       "      <td>panamericano</td>\n",
       "      <td>san judas</td>\n",
       "      <td>6</td>\n",
       "      <td>guabal</td>\n",
       "      <td>4</td>\n",
       "    </tr>\n",
       "    <tr>\n",
       "      <th>1</th>\n",
       "      <td>2</td>\n",
       "      <td>guabal</td>\n",
       "      <td>dorado</td>\n",
       "      <td>5</td>\n",
       "      <td>panamericano</td>\n",
       "      <td>7</td>\n",
       "    </tr>\n",
       "    <tr>\n",
       "      <th>2</th>\n",
       "      <td>3</td>\n",
       "      <td>san judas</td>\n",
       "      <td>primero de mayo</td>\n",
       "      <td>5</td>\n",
       "      <td>panamericano</td>\n",
       "      <td>5</td>\n",
       "    </tr>\n",
       "    <tr>\n",
       "      <th>3</th>\n",
       "      <td>4</td>\n",
       "      <td>primero de mayo</td>\n",
       "      <td>san judas</td>\n",
       "      <td>3</td>\n",
       "      <td>el diamante</td>\n",
       "      <td>5</td>\n",
       "    </tr>\n",
       "    <tr>\n",
       "      <th>4</th>\n",
       "      <td>5</td>\n",
       "      <td>dorado</td>\n",
       "      <td>guabal</td>\n",
       "      <td>6</td>\n",
       "      <td>santo domingo</td>\n",
       "      <td>7</td>\n",
       "    </tr>\n",
       "    <tr>\n",
       "      <th>5</th>\n",
       "      <td>6</td>\n",
       "      <td>el diamante</td>\n",
       "      <td>republica</td>\n",
       "      <td>9</td>\n",
       "      <td>primero de mayo</td>\n",
       "      <td>8</td>\n",
       "    </tr>\n",
       "    <tr>\n",
       "      <th>6</th>\n",
       "      <td>7</td>\n",
       "      <td>santo domingo</td>\n",
       "      <td>dorado</td>\n",
       "      <td>4</td>\n",
       "      <td>Los guaduales</td>\n",
       "      <td>10</td>\n",
       "    </tr>\n",
       "    <tr>\n",
       "      <th>7</th>\n",
       "      <td>8</td>\n",
       "      <td>republica</td>\n",
       "      <td>La hacienda</td>\n",
       "      <td>5</td>\n",
       "      <td>el diamante</td>\n",
       "      <td>6</td>\n",
       "    </tr>\n",
       "    <tr>\n",
       "      <th>8</th>\n",
       "      <td>9</td>\n",
       "      <td>La hacienda</td>\n",
       "      <td>los alamos</td>\n",
       "      <td>7</td>\n",
       "      <td>republica</td>\n",
       "      <td>6</td>\n",
       "    </tr>\n",
       "    <tr>\n",
       "      <th>9</th>\n",
       "      <td>10</td>\n",
       "      <td>Los guaduales</td>\n",
       "      <td>santo domingo</td>\n",
       "      <td>6</td>\n",
       "      <td>la base</td>\n",
       "      <td>8</td>\n",
       "    </tr>\n",
       "    <tr>\n",
       "      <th>10</th>\n",
       "      <td>11</td>\n",
       "      <td>vallado</td>\n",
       "      <td>san judas</td>\n",
       "      <td>3</td>\n",
       "      <td>guabal</td>\n",
       "      <td>4</td>\n",
       "    </tr>\n",
       "    <tr>\n",
       "      <th>11</th>\n",
       "      <td>12</td>\n",
       "      <td>ciudad cordoba</td>\n",
       "      <td>primero de mayo</td>\n",
       "      <td>7</td>\n",
       "      <td>vallado</td>\n",
       "      <td>4</td>\n",
       "    </tr>\n",
       "    <tr>\n",
       "      <th>12</th>\n",
       "      <td>13</td>\n",
       "      <td>La flora</td>\n",
       "      <td>dorado</td>\n",
       "      <td>6</td>\n",
       "      <td>ciudad cordoba</td>\n",
       "      <td>4</td>\n",
       "    </tr>\n",
       "    <tr>\n",
       "      <th>13</th>\n",
       "      <td>14</td>\n",
       "      <td>colon</td>\n",
       "      <td>panamericano</td>\n",
       "      <td>2</td>\n",
       "      <td>vallado</td>\n",
       "      <td>4</td>\n",
       "    </tr>\n",
       "  </tbody>\n",
       "</table>\n",
       "</div>"
      ],
      "text/plain": [
       "    Id           barrio   barrio cercano  cuadra barrio cercano II  cuadra II\n",
       "0    1     panamericano        san judas       6            guabal          4\n",
       "1    2           guabal           dorado       5      panamericano          7\n",
       "2    3        san judas  primero de mayo       5      panamericano          5\n",
       "3    4  primero de mayo        san judas       3       el diamante          5\n",
       "4    5           dorado           guabal       6     santo domingo          7\n",
       "5    6      el diamante        republica       9   primero de mayo          8\n",
       "6    7    santo domingo           dorado       4     Los guaduales         10\n",
       "7    8        republica      La hacienda       5       el diamante          6\n",
       "8    9      La hacienda       los alamos       7         republica          6\n",
       "9   10    Los guaduales    santo domingo       6           la base          8\n",
       "10  11          vallado        san judas       3            guabal          4\n",
       "11  12   ciudad cordoba  primero de mayo       7           vallado          4\n",
       "12  13         La flora           dorado       6    ciudad cordoba          4\n",
       "13  14            colon     panamericano       2           vallado          4"
      ]
     },
     "execution_count": 69,
     "metadata": {},
     "output_type": "execute_result"
    }
   ],
   "source": [
    "df"
   ]
  },
  {
   "cell_type": "code",
   "execution_count": null,
   "id": "af0aefc2",
   "metadata": {},
   "outputs": [],
   "source": []
  }
 ],
 "metadata": {
  "kernelspec": {
   "display_name": "Python 3 (ipykernel)",
   "language": "python",
   "name": "python3"
  },
  "language_info": {
   "codemirror_mode": {
    "name": "ipython",
    "version": 3
   },
   "file_extension": ".py",
   "mimetype": "text/x-python",
   "name": "python",
   "nbconvert_exporter": "python",
   "pygments_lexer": "ipython3",
   "version": "3.9.12"
  }
 },
 "nbformat": 4,
 "nbformat_minor": 5
}
