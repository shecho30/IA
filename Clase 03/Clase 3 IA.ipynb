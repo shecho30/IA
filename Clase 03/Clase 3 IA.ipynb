{
 "cells": [
  {
   "cell_type": "code",
   "execution_count": 15,
   "id": "37e64fee",
   "metadata": {},
   "outputs": [],
   "source": [
    "import numpy "
   ]
  },
  {
   "cell_type": "code",
   "execution_count": 3,
   "id": "fd42794b",
   "metadata": {},
   "outputs": [],
   "source": [
    "velocidad = [99,86,87,88,111,86,103,87,94,78,77,85,86]"
   ]
  },
  {
   "cell_type": "code",
   "execution_count": 4,
   "id": "0412ad09",
   "metadata": {},
   "outputs": [],
   "source": [
    "media = numpy.mean(velocidad)"
   ]
  },
  {
   "cell_type": "code",
   "execution_count": 5,
   "id": "291c22d4",
   "metadata": {},
   "outputs": [
    {
     "name": "stdout",
     "output_type": "stream",
     "text": [
      "89.76923076923077\n"
     ]
    }
   ],
   "source": [
    "print(media)"
   ]
  },
  {
   "cell_type": "code",
   "execution_count": 6,
   "id": "38d69f1f",
   "metadata": {},
   "outputs": [],
   "source": [
    "mediana = numpy.median(velocidad)"
   ]
  },
  {
   "cell_type": "code",
   "execution_count": 7,
   "id": "3c24c91a",
   "metadata": {},
   "outputs": [
    {
     "name": "stdout",
     "output_type": "stream",
     "text": [
      "87.0\n"
     ]
    }
   ],
   "source": [
    "print(mediana)"
   ]
  },
  {
   "cell_type": "code",
   "execution_count": 9,
   "id": "7689a845",
   "metadata": {},
   "outputs": [],
   "source": [
    "from scipy import stats"
   ]
  },
  {
   "cell_type": "code",
   "execution_count": 10,
   "id": "50936e08",
   "metadata": {},
   "outputs": [],
   "source": [
    "velocidad = [99,86,87,88,111,86,103,87,94,78,77,85,86]"
   ]
  },
  {
   "cell_type": "code",
   "execution_count": 11,
   "id": "8a689351",
   "metadata": {},
   "outputs": [],
   "source": [
    "x = stats.mode(velocidad) #1"
   ]
  },
  {
   "cell_type": "code",
   "execution_count": 13,
   "id": "e7bd085d",
   "metadata": {},
   "outputs": [
    {
     "name": "stdout",
     "output_type": "stream",
     "text": [
      "[99, 86, 87, 88, 111, 86, 103, 87, 94, 78, 77, 85, 86]\n"
     ]
    }
   ],
   "source": [
    "print(velocidad)"
   ]
  },
  {
   "cell_type": "code",
   "execution_count": 14,
   "id": "7ee94c39",
   "metadata": {},
   "outputs": [
    {
     "name": "stdout",
     "output_type": "stream",
     "text": [
      "ModeResult(mode=array([86]), count=array([3]))\n"
     ]
    }
   ],
   "source": [
    "print(x)"
   ]
  },
  {
   "cell_type": "code",
   "execution_count": 17,
   "id": "34e1c3da",
   "metadata": {},
   "outputs": [],
   "source": [
    "import numpy "
   ]
  },
  {
   "cell_type": "code",
   "execution_count": 20,
   "id": "1ba2f910",
   "metadata": {},
   "outputs": [],
   "source": [
    "import matplotlib.pyplot as plt"
   ]
  },
  {
   "cell_type": "code",
   "execution_count": 23,
   "id": "e166efd5",
   "metadata": {},
   "outputs": [],
   "source": [
    "x = numpy.random.normal(5.0,1.0,200000)"
   ]
  },
  {
   "cell_type": "code",
   "execution_count": 26,
   "id": "8902ea10",
   "metadata": {},
   "outputs": [
    {
     "data": {
      "image/png": "[encoded data removed]",
      "text/plain": [
       "<Figure size 432x288 with 1 Axes>"
      ]
     },
     "metadata": {
      "needs_background": "light"
     },
     "output_type": "display_data"
    }
   ],
   "source": [
    "plt.hist(x,100)\n",
    "plt.show()"
   ]
  },
  {
   "cell_type": "code",
   "execution_count": 27,
   "id": "0f4483b6",
   "metadata": {},
   "outputs": [],
   "source": [
    "import matplotlib.pyplot as plt"
   ]
  },
  {
   "cell_type": "code",
   "execution_count": 28,
   "id": "82ce7245",
   "metadata": {},
   "outputs": [],
   "source": [
    "año = [5,7,8,7,2,17,2,9,4,11,12,9,6]\n",
    "velocidad = [99,86,87,88,111,86,103,87,94,78,77,85,86]"
   ]
  },
  {
   "cell_type": "code",
   "execution_count": 29,
   "id": "86ff1dce",
   "metadata": {},
   "outputs": [
    {
     "data": {
      "image/png": "[encoded data removed]",
      "text/plain": [
       "<Figure size 432x288 with 1 Axes>"
      ]
     },
     "metadata": {
      "needs_background": "light"
     },
     "output_type": "display_data"
    }
   ],
   "source": [
    "plt.scatter(año, velocidad)\n",
    "plt.show()"
   ]
  },
  {
   "cell_type": "code",
   "execution_count": null,
   "id": "ea1f21c9",
   "metadata": {},
   "outputs": [],
   "source": []
  }
 ],
 "metadata": {
  "kernelspec": {
   "display_name": "Python 3 (ipykernel)",
   "language": "python",
   "name": "python3"
  },
  "language_info": {
   "codemirror_mode": {
    "name": "ipython",
    "version": 3
   },
   "file_extension": ".py",
   "mimetype": "text/x-python",
   "name": "python",
   "nbconvert_exporter": "python",
   "pygments_lexer": "ipython3",
   "version": "3.9.12"
  }
 },
 "nbformat": 4,
 "nbformat_minor": 5
}
